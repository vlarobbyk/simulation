{
 "cells": [
  {
   "cell_type": "code",
   "execution_count": null,
   "metadata": {},
   "outputs": [],
   "source": [
    "def arreglo=[1,2,3]\n",
    "\n",
    "def datos=new URL('https://en.wikipedia.org/wiki/Sim%C3%B3n_Bol%C3%ADvar').getText()"
   ]
  },
  {
   "cell_type": "markdown",
   "metadata": {},
   "source": [
    "# Ejemplo de Manejo de Groovy\n",
    "Esta es una lista con viñetas\n",
    "\n",
    "* Hola\n",
    "* Mundo\n",
    "\n",
    "$x = \\frac{y^{2}\\cdot 23}{\\vec{Z}}$"
   ]
  }
 ],
 "metadata": {
  "kernelspec": {
   "display_name": "SciJava",
   "language": "groovy",
   "name": "scijava"
  },
  "language_info": {
   "codemirror_mode": "groovy",
   "file_extension": "",
   "mimetype": "",
   "name": "scijava",
   "nbconverter_exporter": "",
   "pygments_lexer": "groovy",
   "version": "1.0"
  }
 },
 "nbformat": 4,
 "nbformat_minor": 2
}
