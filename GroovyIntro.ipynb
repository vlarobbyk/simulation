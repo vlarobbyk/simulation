{
 "cells": [
  {
   "cell_type": "code",
   "execution_count": null,
   "metadata": {},
   "outputs": [
    {
     "name": "stdout",
     "output_type": "stream",
     "text": [
      "[1, 2, 3][1, 2, 3]\n"
     ]
    }
   ],
   "source": [
    "//def data=new URL('https://en.wikipedia.org/wiki/Sim%C3%B3n_Bol%C3%ADvar').getText();\n",
    "\n",
    "class Buscador{\n",
    "    \n",
    "}\n",
    "\n",
    "def buscador=new Buscador();\n",
    "def res=buscador.llenar();\n",
    "println(res)"
   ]
  },
  {
   "cell_type": "markdown",
   "metadata": {},
   "source": [
    "# Titulo del Cuaderno"
   ]
  }
 ],
 "metadata": {
  "kernelspec": {
   "display_name": "SciJava",
   "language": "groovy",
   "name": "scijava"
  },
  "language_info": {
   "codemirror_mode": "groovy",
   "file_extension": "",
   "mimetype": "",
   "name": "scijava",
   "nbconverter_exporter": "",
   "pygments_lexer": "groovy",
   "version": "1.0"
  }
 },
 "nbformat": 4,
 "nbformat_minor": 2
}
